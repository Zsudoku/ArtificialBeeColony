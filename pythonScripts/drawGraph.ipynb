{
 "cells": [
  {
   "cell_type": "code",
   "execution_count": 35,
   "metadata": {},
   "outputs": [],
   "source": [
    "import json as js\n",
    "import matplotlib.pyplot as plt"
   ]
  },
  {
   "cell_type": "code",
   "execution_count": 44,
   "metadata": {},
   "outputs": [],
   "source": [
    "jsonPath = \"seq.json\"\n",
    "jsonfile = open(jsonPath)\n",
    "\n",
    "seq = js.load(jsonfile) # read the seq \n",
    "colors = [] # set colors of the seq according to the seq itself\n",
    "for i in seq:\n",
    "    if i < 501:\n",
    "        colors.append('green')\n",
    "    if i > 500 and i < 1001:\n",
    "        colors.append('red')\n",
    "    if i > 1000 and i < 1501:\n",
    "        colors.append('blue')\n",
    "    if i > 1500 and i < 2001:\n",
    "        colors.append('yellow')"
   ]
  },
  {
   "cell_type": "code",
   "execution_count": 45,
   "metadata": {},
   "outputs": [],
   "source": [
    "x = [i for i in range(len(seq))] # x axis, 1~2000\n",
    "y = [1 for i in range(len(seq))] # y axis, all 1"
   ]
  },
  {
   "cell_type": "code",
   "execution_count": 46,
   "metadata": {},
   "outputs": [
    {
     "data": {
      "image/png": "[encoded data removed]",
      "text/plain": [
       "<Figure size 432x288 with 1 Axes>"
      ]
     },
     "metadata": {
      "needs_background": "light"
     },
     "output_type": "display_data"
    }
   ],
   "source": [
    "plt.scatter(x, y, color=colors, s=1)\n",
    "plt.savefig(\"imgs/test.png\",dpi = 600)\n",
    "plt.show()"
   ]
  }
 ],
 "metadata": {
  "interpreter": {
   "hash": "d5655b99994d5bd0519b5c5da28a7478a3a37b9aabc4a07e8acfd42774e16cc7"
  },
  "kernelspec": {
   "display_name": "Python 3.8.8 64-bit ('base': conda)",
   "name": "python3"
  },
  "language_info": {
   "codemirror_mode": {
    "name": "ipython",
    "version": 3
   },
   "file_extension": ".py",
   "mimetype": "text/x-python",
   "name": "python",
   "nbconvert_exporter": "python",
   "pygments_lexer": "ipython3",
   "version": "3.8.8"
  },
  "orig_nbformat": 4
 },
 "nbformat": 4,
 "nbformat_minor": 2
}
